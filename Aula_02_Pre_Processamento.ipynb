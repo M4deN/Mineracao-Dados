{
  "metadata": {
    "language_info": {
      "name": "python"
    },
    "colab": {
      "provenance": [],
      "include_colab_link": true
    },
    "kernelspec": {
      "name": "python3",
      "display_name": "Python 3"
    }
  },
  "nbformat": 4,
  "nbformat_minor": 5,
  "cells": [
    {
      "cell_type": "markdown",
      "metadata": {
        "id": "view-in-github",
        "colab_type": "text"
      },
      "source": [
        "<a href=\"https://colab.research.google.com/github/M4deN/Mineracao-Dados/blob/main/Aula_02_Pre_Processamento.ipynb\" target=\"_parent\"><img src=\"https://colab.research.google.com/assets/colab-badge.svg\" alt=\"Open In Colab\"/></a>"
      ]
    },
    {
      "cell_type": "markdown",
      "source": [
        "# Disciplina de Mineração de Dados\n",
        "## Programa de Pós-graduação em Informática (PPGI)\n"
      ],
      "metadata": {
        "id": "_VwQZPxF8QmB"
      },
      "id": "_VwQZPxF8QmB"
    },
    {
      "cell_type": "markdown",
      "metadata": {
        "id": "thGgCot1748l"
      },
      "source": [
        "# Encontro 2: Pré-processamento e Transformação de Dados\n",
        "\n",
        "**Objetivos:**\n",
        "- Compreender a importância do pré-processamento de dados.\n",
        "- Aprender e aplicar técnicas de limpeza de dados (tratamento de dados ausentes, ruidosos e outliers).\n",
        "- Aprender e aplicar técnicas de integração e transformação de dados (normalização, discretização, feature engineering).\n",
        "- Aprender e aplicar técnicas de redução de dados (seleção de atributos e PCA)."
      ],
      "id": "thGgCot1748l"
    },
    {
      "cell_type": "markdown",
      "metadata": {
        "id": "329n2NWC748o"
      },
      "source": [
        "## Setup Inicial\n",
        "\n",
        "Importar as bibliotecas necessárias."
      ],
      "id": "329n2NWC748o"
    },
    {
      "cell_type": "code",
      "execution_count": null,
      "metadata": {
        "id": "hv04MALR748p"
      },
      "outputs": [],
      "source": [
        "import pandas as pd\n",
        "import numpy as np\n",
        "import matplotlib.pyplot as plt\n",
        "import seaborn as sns\n",
        "\n",
        "# Módulos do Scikit-learn para pré-processamento\n",
        "from sklearn.impute import SimpleImputer\n",
        "from sklearn.preprocessing import StandardScaler, MinMaxScaler, KBinsDiscretizer, OneHotEncoder\n",
        "from sklearn.decomposition import PCA\n",
        "from sklearn.feature_selection import VarianceThreshold, SelectKBest, chi2, f_classif\n",
        "from sklearn.compose import ColumnTransformer\n",
        "from sklearn.pipeline import Pipeline\n",
        "\n",
        "# Configurações para melhor visualização\n",
        "sns.set_style('whitegrid')\n",
        "plt.rcParams['figure.figsize'] = (10, 6)"
      ],
      "id": "hv04MALR748p"
    },
    {
      "cell_type": "markdown",
      "metadata": {
        "id": "v4pwPVKa748q"
      },
      "source": [
        "## 1. Carregando o Dataset\n",
        "\n",
        "Dataset Titanic, que é conhecido por ter dados ausentes e uma mistura de tipos de atributos, tornando-o ideal para demonstrar técnicas de pré-processamento."
      ],
      "id": "v4pwPVKa748q"
    },
    {
      "cell_type": "code",
      "execution_count": null,
      "metadata": {
        "id": "W5JZRKbE748q",
        "colab": {
          "base_uri": "https://localhost:8080/"
        },
        "outputId": "03778e1a-7c8e-4db5-dbb6-a23186981183"
      },
      "outputs": [
        {
          "output_type": "stream",
          "name": "stdout",
          "text": [
            "Primeiras 5 linhas do dataset Titanic:\n",
            "   survived  pclass     sex   age  sibsp  parch     fare embarked  class  \\\n",
            "0         0       3    male  22.0      1      0   7.2500        S  Third   \n",
            "1         1       1  female  38.0      1      0  71.2833        C  First   \n",
            "2         1       3  female  26.0      0      0   7.9250        S  Third   \n",
            "3         1       1  female  35.0      1      0  53.1000        S  First   \n",
            "4         0       3    male  35.0      0      0   8.0500        S  Third   \n",
            "\n",
            "     who  adult_male deck  embark_town alive  alone  \n",
            "0    man        True  NaN  Southampton    no  False  \n",
            "1  woman       False    C    Cherbourg   yes  False  \n",
            "2  woman       False  NaN  Southampton   yes   True  \n",
            "3  woman       False    C  Southampton   yes  False  \n",
            "4    man        True  NaN  Southampton    no   True  \n",
            "\n",
            "Informações do DataFrame:\n",
            "<class 'pandas.core.frame.DataFrame'>\n",
            "RangeIndex: 891 entries, 0 to 890\n",
            "Data columns (total 15 columns):\n",
            " #   Column       Non-Null Count  Dtype   \n",
            "---  ------       --------------  -----   \n",
            " 0   survived     891 non-null    int64   \n",
            " 1   pclass       891 non-null    int64   \n",
            " 2   sex          891 non-null    object  \n",
            " 3   age          714 non-null    float64 \n",
            " 4   sibsp        891 non-null    int64   \n",
            " 5   parch        891 non-null    int64   \n",
            " 6   fare         891 non-null    float64 \n",
            " 7   embarked     889 non-null    object  \n",
            " 8   class        891 non-null    category\n",
            " 9   who          891 non-null    object  \n",
            " 10  adult_male   891 non-null    bool    \n",
            " 11  deck         203 non-null    category\n",
            " 12  embark_town  889 non-null    object  \n",
            " 13  alive        891 non-null    object  \n",
            " 14  alone        891 non-null    bool    \n",
            "dtypes: bool(2), category(2), float64(2), int64(4), object(5)\n",
            "memory usage: 80.7+ KB\n",
            "\n",
            "DataFrame após remover colunas iniciais:\n",
            "   survived  pclass     sex   age  sibsp  parch     fare embarked  class  \\\n",
            "0         0       3    male  22.0      1      0   7.2500        S  Third   \n",
            "1         1       1  female  38.0      1      0  71.2833        C  First   \n",
            "2         1       3  female  26.0      0      0   7.9250        S  Third   \n",
            "3         1       1  female  35.0      1      0  53.1000        S  First   \n",
            "4         0       3    male  35.0      0      0   8.0500        S  Third   \n",
            "\n",
            "     who  adult_male  alone  \n",
            "0    man        True  False  \n",
            "1  woman       False  False  \n",
            "2  woman       False   True  \n",
            "3  woman       False  False  \n",
            "4    man        True   True  \n"
          ]
        }
      ],
      "source": [
        "# Carregar o dataset Titanic a partir do Seaborn\n",
        "df_titanic = sns.load_dataset('titanic')\n",
        "\n",
        "print(\"Primeiras 5 linhas do dataset Titanic:\")\n",
        "print(df_titanic.head())\n",
        "\n",
        "print(\"\\nInformações do DataFrame:\")\n",
        "df_titanic.info()\n",
        "\n",
        "# Para os exercícios, vamos remover algumas colunas que não usaremos diretamente ou que são mais complexas de tratar inicialmente\n",
        "# 'deck' tem muitos valores ausentes, 'embark_town' e 'alive' são redundantes com 'embarked' e 'survived'\n",
        "df = df_titanic.drop(columns=[\"deck\", \"embark_town\", \"alive\"])\n",
        "print(\"\\nDataFrame após remover colunas iniciais:\")\n",
        "print(df.head())"
      ],
      "id": "W5JZRKbE748q"
    },
    {
      "cell_type": "markdown",
      "metadata": {
        "id": "gZCYSN8c748r"
      },
      "source": [
        "## 2. Limpeza de Dados (Data Cleaning)\n",
        "\n",
        "### 2.1 Tratamento de Dados Ausentes (Missing Values)"
      ],
      "id": "gZCYSN8c748r"
    },
    {
      "cell_type": "code",
      "execution_count": null,
      "metadata": {
        "id": "J397fiSz748r",
        "colab": {
          "base_uri": "https://localhost:8080/"
        },
        "outputId": "5a8daf0c-9007-4b92-e0be-69b141f77f59"
      },
      "outputs": [
        {
          "output_type": "stream",
          "name": "stdout",
          "text": [
            "Contagem de dados ausentes por coluna:\n",
            "survived        0\n",
            "pclass          0\n",
            "sex             0\n",
            "age           177\n",
            "sibsp           0\n",
            "parch           0\n",
            "fare            0\n",
            "embarked        2\n",
            "class           0\n",
            "who             0\n",
            "adult_male      0\n",
            "alone           0\n",
            "dtype: int64\n",
            "\n",
            "Contagem de dados ausentes APÓS imputação:\n",
            "survived      0\n",
            "pclass        0\n",
            "sex           0\n",
            "age           0\n",
            "sibsp         0\n",
            "parch         0\n",
            "fare          0\n",
            "embarked      0\n",
            "class         0\n",
            "who           0\n",
            "adult_male    0\n",
            "alone         0\n",
            "dtype: int64\n"
          ]
        }
      ],
      "source": [
        "# Identificar e quantificar dados ausentes por coluna\n",
        "print(\"Contagem de dados ausentes por coluna:\")\n",
        "print(df.isnull().sum())\n",
        "\n",
        "# Estratégias de Imputação com SimpleImputer\n",
        "# Para a coluna 'age' (numérica), vamos usar a mediana.\n",
        "# Para a coluna 'embarked' (categórica), vamos usar a moda.\n",
        "\n",
        "# Criar cópias para não alterar o DataFrame original diretamente em cada passo\n",
        "df_imputado = df.copy()\n",
        "\n",
        "# Imputação para 'age'\n",
        "imputer_age = SimpleImputer(strategy='median')\n",
        "df_imputado['age'] = imputer_age.fit_transform(df_imputado[['age']])\n",
        "\n",
        "# Imputação para 'embarked'\n",
        "imputer_embarked = SimpleImputer(strategy='most_frequent') # 'most_frequent' é a moda\n",
        "\n",
        "df_imputado['embarked'] = imputer_embarked.fit_transform(df_imputado[['embarked']]).ravel() #como a saída é de (891,1) é preciso achatar os dados para um array de (891,)\n",
        "\n",
        "print(\"\\nContagem de dados ausentes APÓS imputação:\")\n",
        "print(df_imputado.isnull().sum())\n",
        "\n",
        "# A coluna 'who', 'adult_male', 'class', 'man_woman_child' são derivadas ou categóricas sem NaN após as imputações acima\n",
        "# A coluna 'pclass' é ordinal e não tem NaNs\n",
        "# A coluna 'fare' é numérica e não tem NaNs\n",
        "# A coluna 'sibsp' e 'parch' são numéricas e não tem NaNs"
      ],
      "id": "J397fiSz748r"
    },
    {
      "cell_type": "markdown",
      "metadata": {
        "id": "W1vrVkvb748s"
      },
      "source": [
        "### 2.2 Detecção e Tratamento de Duplicatas"
      ],
      "id": "W1vrVkvb748s"
    },
    {
      "cell_type": "code",
      "execution_count": null,
      "metadata": {
        "id": "SmJmM-N3748s",
        "colab": {
          "base_uri": "https://localhost:8080/"
        },
        "outputId": "2eb36130-70ab-4f03-ce8d-7ca557e14bf2"
      },
      "outputs": [
        {
          "output_type": "stream",
          "name": "stdout",
          "text": [
            "Número de linhas duplicadas encontradas: 116\n",
            "Shape antes de remover duplicatas: (891, 12)\n",
            "Shape após remover duplicatas: (775, 12)\n"
          ]
        }
      ],
      "source": [
        "# Verificar linhas duplicadas\n",
        "duplicatas = df_imputado.duplicated().sum()\n",
        "print(f\"Número de linhas duplicadas encontradas: {duplicatas}\")\n",
        "\n",
        "# Remover linhas duplicadas, se houver\n",
        "if duplicatas > 0:\n",
        "    df_sem_duplicatas = df_imputado.drop_duplicates()\n",
        "    print(f\"Shape antes de remover duplicatas: {df_imputado.shape}\")\n",
        "    print(f\"Shape após remover duplicatas: {df_sem_duplicatas.shape}\")\n",
        "    df_final_limpeza = df_sem_duplicatas\n",
        "else:\n",
        "    print(\"Não há duplicatas para remover.\")\n",
        "    df_final_limpeza = df_imputado.copy()"
      ],
      "id": "SmJmM-N3748s"
    },
    {
      "cell_type": "markdown",
      "metadata": {
        "id": "c-JkQ_gu748s"
      },
      "source": [
        "### 2.3 (Opcional) Detecção de Outliers usando IQR\n",
        "\n",
        "Vamos analisar a coluna 'fare' para outliers."
      ],
      "id": "c-JkQ_gu748s"
    },
    {
      "cell_type": "code",
      "execution_count": null,
      "metadata": {
        "id": "lCQzChkf748t",
        "colab": {
          "base_uri": "https://localhost:8080/",
          "height": 599
        },
        "outputId": "313dd186-d544-450a-da85-03eb0291451a"
      },
      "outputs": [
        {
          "output_type": "display_data",
          "data": {
            "text/plain": [
              "<Figure size 800x600 with 1 Axes>"
            ],
            "image/png": "[encoded data removed]"
          },
          "metadata": {}
        },
        {
          "output_type": "stream",
          "name": "stdout",
          "text": [
            "Número de outliers detectados em 'fare' usando IQR: 102\n",
            "Limites para 'fare': Inferior=-31.17, Superior=73.42\n"
          ]
        }
      ],
      "source": [
        "plt.figure(figsize=(8, 6))\n",
        "sns.boxplot(x=df_final_limpeza['fare'])\n",
        "plt.title('Boxplot da Coluna Fare')\n",
        "plt.show()\n",
        "\n",
        "Q1 = df_final_limpeza['fare'].quantile(0.25)\n",
        "Q3 = df_final_limpeza['fare'].quantile(0.75)\n",
        "IQR = Q3 - Q1\n",
        "\n",
        "limite_inferior = Q1 - 1.5 * IQR\n",
        "limite_superior = Q3 + 1.5 * IQR\n",
        "\n",
        "outliers = df_final_limpeza[(df_final_limpeza['fare'] < limite_inferior) | (df_final_limpeza['fare'] > limite_superior)]\n",
        "print(f\"Número de outliers detectados em 'fare' usando IQR: {len(outliers)}\")\n",
        "print(f\"Limites para 'fare': Inferior={limite_inferior:.2f}, Superior={limite_superior:.2f}\")\n",
        "\n",
        "# Para este notebook, não vamos remover os outliers, mas em um projeto real,\n",
        "# a decisão dependeria da análise (ex: são erros ou valores extremos válidos?).\n",
        "# Poderíamos, por exemplo, aplicar 'capping' (substituir outliers pelos limites):\n",
        "# df_final_limpeza['fare_capped'] = np.where(df_final_limpeza['fare'] > limite_superior, limite_superior,\n",
        "#                                            np.where(df_final_limpeza['fare'] < limite_inferior, limite_inferior, df_final_limpeza['fare']))"
      ],
      "id": "lCQzChkf748t"
    },
    {
      "cell_type": "markdown",
      "metadata": {
        "id": "aipfJlH1748t"
      },
      "source": [
        "## 3. Transformação de Dados\n",
        "\n",
        "### 3.1 Normalização e Padronização\n",
        "\n",
        "Colunas numéricas como 'age' e 'fare'."
      ],
      "id": "aipfJlH1748t"
    },
    {
      "cell_type": "code",
      "execution_count": null,
      "metadata": {
        "id": "Jvtvh-bw748t",
        "colab": {
          "base_uri": "https://localhost:8080/"
        },
        "outputId": "25290090-7ec6-493c-c351-79a7a3fd4ce7"
      },
      "outputs": [
        {
          "output_type": "stream",
          "name": "stdout",
          "text": [
            "DataFrame com colunas 'age' e 'fare' escaladas:\n",
            "    age  age_scaled     fare  fare_scaled\n",
            "0  22.0   -0.551060   7.2500     0.014151\n",
            "1  38.0    0.611945  71.2833     0.139136\n",
            "2  26.0   -0.260308   7.9250     0.015469\n",
            "3  35.0    0.393881  53.1000     0.103644\n",
            "4  35.0    0.393881   8.0500     0.015713\n",
            "\n",
            "Estatísticas de 'age_scaled' e 'fare_scaled':\n",
            "              age    age_scaled        fare  fare_scaled\n",
            "count  775.000000  7.750000e+02  775.000000   775.000000\n",
            "mean    29.581187  2.521281e-16   34.878403     0.068078\n",
            "std     13.766359  1.000646e+00   52.408474     0.102295\n",
            "min      0.420000 -2.119661e+00    0.000000     0.000000\n",
            "25%     21.000000 -6.237473e-01    8.050000     0.015713\n",
            "50%     28.000000 -1.149330e-01   15.900000     0.031035\n",
            "75%     36.000000  4.665691e-01   34.197900     0.066750\n",
            "max     80.000000  3.664831e+00  512.329200     1.000000\n"
          ]
        }
      ],
      "source": [
        "df_transformado = df_final_limpeza.copy()\n",
        "\n",
        "# Padronização (Z-Score) para 'age'\n",
        "scaler_age = StandardScaler()\n",
        "df_transformado['age_scaled'] = scaler_age.fit_transform(df_transformado[['age']])\n",
        "\n",
        "# Normalização (Min-Max) para 'fare'\n",
        "scaler_fare = MinMaxScaler()\n",
        "df_transformado['fare_scaled'] = scaler_fare.fit_transform(df_transformado[['fare']])\n",
        "\n",
        "print(\"DataFrame com colunas 'age' e 'fare' escaladas:\")\n",
        "print(df_transformado[['age', 'age_scaled', 'fare', 'fare_scaled']].head())\n",
        "\n",
        "print(\"\\nEstatísticas de 'age_scaled' e 'fare_scaled':\")\n",
        "print(df_transformado[['age', 'age_scaled', 'fare', 'fare_scaled']].describe())"
      ],
      "id": "Jvtvh-bw748t"
    },
    {
      "cell_type": "markdown",
      "metadata": {
        "id": "sfj068FP748u"
      },
      "source": [
        "### 3.2 Discretização (Binning)\n",
        "\n",
        "Discretização coluna 'age' em faixas etárias."
      ],
      "id": "sfj068FP748u"
    },
    {
      "cell_type": "code",
      "execution_count": null,
      "metadata": {
        "id": "zA3-9DB8748u",
        "colab": {
          "base_uri": "https://localhost:8080/"
        },
        "outputId": "891989c3-b02e-4d40-f7cf-9807123d07aa"
      },
      "outputs": [
        {
          "output_type": "stream",
          "name": "stdout",
          "text": [
            "Contagem de valores nas faixas etárias (quantile):\n",
            "age_binned_quantile\n",
            "0.0    135\n",
            "1.0    165\n",
            "2.0    159\n",
            "3.0    156\n",
            "4.0    160\n",
            "Name: count, dtype: int64\n",
            "\n",
            "Contagem de valores nas faixas etárias (uniform):\n",
            "age_binned_uniform\n",
            "0.0     99\n",
            "1.0    417\n",
            "2.0    181\n",
            "3.0     67\n",
            "4.0     11\n",
            "Name: count, dtype: int64\n"
          ]
        }
      ],
      "source": [
        "# Discretização de 'age' em 5 faixas de igual frequência (quantile)\n",
        "discretizer = KBinsDiscretizer(n_bins=5, encode='ordinal', strategy='quantile', subsample=None) # subsample=None para evitar warning\n",
        "df_transformado['age_binned_quantile'] = discretizer.fit_transform(df_transformado[['age']])\n",
        "\n",
        "# Discretização de 'age' em 5 faixas de igual largura (uniform)\n",
        "discretizer_uniform = KBinsDiscretizer(n_bins=5, encode='ordinal', strategy='uniform', subsample=None)\n",
        "df_transformado['age_binned_uniform'] = discretizer_uniform.fit_transform(df_transformado[['age']])\n",
        "\n",
        "print(\"Contagem de valores nas faixas etárias (quantile):\")\n",
        "print(df_transformado['age_binned_quantile'].value_counts().sort_index())\n",
        "\n",
        "print(\"\\nContagem de valores nas faixas etárias (uniform):\")\n",
        "print(df_transformado['age_binned_uniform'].value_counts().sort_index())"
      ],
      "id": "zA3-9DB8748u"
    },
    {
      "cell_type": "markdown",
      "metadata": {
        "id": "Dsy4q_3M748u"
      },
      "source": [
        "### 3.3 Feature Engineering\n",
        "\n",
        "Novos atributos a partir dos existentes."
      ],
      "id": "Dsy4q_3M748u"
    },
    {
      "cell_type": "code",
      "execution_count": null,
      "metadata": {
        "id": "ZPLmYKKp748u",
        "colab": {
          "base_uri": "https://localhost:8080/"
        },
        "outputId": "a6effd40-1bf9-4865-e722-8cfa53679336"
      },
      "outputs": [
        {
          "output_type": "stream",
          "name": "stdout",
          "text": [
            "DataFrame com 'family_size' e 'is_alone':\n",
            "   sibsp  parch  family_size  is_alone\n",
            "0      1      0            2         0\n",
            "1      1      0            2         0\n",
            "2      0      0            1         1\n",
            "3      1      0            2         0\n",
            "4      0      0            1         1\n"
          ]
        }
      ],
      "source": [
        "# Criar 'family_size' a partir de 'sibsp' e 'parch'\n",
        "df_transformado['family_size'] = df_transformado['sibsp'] + df_transformado['parch'] + 1 # +1 para incluir a própria pessoa\n",
        "\n",
        "# Criar 'is_alone'\n",
        "df_transformado['is_alone'] = (df_transformado['family_size'] == 1).astype(int)\n",
        "\n",
        "print(\"DataFrame com 'family_size' e 'is_alone':\")\n",
        "print(df_transformado[['sibsp', 'parch', 'family_size', 'is_alone']].head())"
      ],
      "id": "ZPLmYKKp748u"
    },
    {
      "cell_type": "markdown",
      "metadata": {
        "id": "DEgGI6Gm748u"
      },
      "source": [
        "### 3.4 Codificação de Variáveis Categóricas (One-Hot Encoding)\n",
        "\n",
        "Muitos algoritmos de ML exigem que as entradas sejam numéricas. Vamos aplicar One-Hot Encoding em 'sex', 'embarked' e 'class'."
      ],
      "id": "DEgGI6Gm748u"
    },
    {
      "cell_type": "code",
      "execution_count": null,
      "metadata": {
        "id": "ySlro3ZI748u",
        "colab": {
          "base_uri": "https://localhost:8080/"
        },
        "outputId": "db1d05a2-8707-40d1-d771-3c88b631b249"
      },
      "outputs": [
        {
          "output_type": "stream",
          "name": "stdout",
          "text": [
            "DataFrame após One-Hot Encoding (primeiras colunas e linhas):\n",
            "   survived   age  sibsp  parch     fare  alone  age_scaled  fare_scaled  \\\n",
            "0         0  22.0      1      0   7.2500  False   -0.551060     0.014151   \n",
            "1         1  38.0      1      0  71.2833  False    0.611945     0.139136   \n",
            "2         1  26.0      0      0   7.9250   True   -0.260308     0.015469   \n",
            "3         1  35.0      1      0  53.1000  False    0.393881     0.103644   \n",
            "4         0  35.0      0      0   8.0500   True    0.393881     0.015713   \n",
            "\n",
            "   age_binned_quantile  age_binned_uniform  ...  sex_male  embarked_Q  \\\n",
            "0                  1.0                 1.0  ...      True       False   \n",
            "1                  3.0                 2.0  ...     False       False   \n",
            "2                  1.0                 1.0  ...     False       False   \n",
            "3                  3.0                 2.0  ...     False       False   \n",
            "4                  3.0                 2.0  ...      True       False   \n",
            "\n",
            "   embarked_S  class_Second  class_Third  who_man  who_woman  adult_male_True  \\\n",
            "0        True         False         True     True      False             True   \n",
            "1       False         False        False    False       True            False   \n",
            "2        True         False         True    False       True            False   \n",
            "3        True         False        False    False       True            False   \n",
            "4        True         False         True     True      False             True   \n",
            "\n",
            "   pclass_2  pclass_3  \n",
            "0     False      True  \n",
            "1     False     False  \n",
            "2     False      True  \n",
            "3     False     False  \n",
            "4     False      True  \n",
            "\n",
            "[5 rows x 22 columns]\n"
          ]
        }
      ],
      "source": [
        "# Selecionar colunas categóricas para One-Hot Encoding\n",
        "# 'pclass' é ordinal, pode ser tratada como numérica ou categórica - vamos incluí-la aqui para demonstração do OHE\n",
        "cols_categoricas = ['sex', 'embarked', 'class', 'who', 'adult_male', 'pclass']\n",
        "\n",
        "# Aplicar OneHotEncoder\n",
        "# Usaremos pd.get_dummies para simplicidade, que é similar ao OneHotEncoder\n",
        "df_encoded = pd.get_dummies(df_transformado, columns=cols_categoricas, drop_first=True) # drop_first=True para evitar multicolinearidade\n",
        "\n",
        "print(\"DataFrame após One-Hot Encoding (primeiras colunas e linhas):\")\n",
        "print(df_encoded.head())"
      ],
      "id": "ySlro3ZI748u"
    },
    {
      "cell_type": "markdown",
      "metadata": {
        "id": "tXZWhNWD748v"
      },
      "source": [
        "## 4. Redução de Dados\n",
        "\n",
        "### 4.1 Seleção de Atributos (Feature Selection)\n",
        "\n",
        "DataFrame `df_encoded` que agora só tem atributos numéricos (ou booleanos que o Pandas trata como 0/1). A variável alvo será 'survived'."
      ],
      "id": "tXZWhNWD748v"
    },
    {
      "cell_type": "code",
      "execution_count": null,
      "metadata": {
        "id": "vQMFqipD748v",
        "colab": {
          "base_uri": "https://localhost:8080/"
        },
        "outputId": "bfb0b7d5-a4cf-4956-9c1e-0b1b4ac3df93"
      },
      "outputs": [
        {
          "output_type": "stream",
          "name": "stdout",
          "text": [
            "Shape original de X: (775, 21)\n",
            "Shape de X após VarianceThreshold: (775, 21)\n",
            "\n",
            "Shape de X após SelectKBest: (775, 10)\n",
            "\n",
            "Scores dos atributos (f_classif):\n",
            "            Feature       Score\n",
            "18  adult_male_True  300.623983\n",
            "16          who_man  300.623983\n",
            "11         sex_male  280.679750\n",
            "17        who_woman  232.510531\n",
            "15      class_Third   89.998104\n",
            "20         pclass_3   89.998104\n",
            "3              fare   50.292755\n",
            "6       fare_scaled   50.292755\n",
            "4             alone   24.917289\n",
            "10         is_alone   24.917289\n",
            "\n",
            "Colunas selecionadas pelo SelectKBest: ['fare', 'alone', 'fare_scaled', 'is_alone', 'sex_male', 'class_Third', 'who_man', 'who_woman', 'adult_male_True', 'pclass_3']\n"
          ]
        }
      ],
      "source": [
        "# Separar atributos (X) e alvo (y)\n",
        "X = df_encoded.drop('survived', axis=1)\n",
        "y = df_encoded['survived']\n",
        "\n",
        "# 4.1.1 VarianceThreshold: remover atributos com baixa variância\n",
        "selector_var = VarianceThreshold(threshold=0.01) # Remove atributos com variância < 0.01 (quase constantes)\n",
        "X_var_selected = selector_var.fit_transform(X)\n",
        "print(f\"Shape original de X: {X.shape}\")\n",
        "print(f\"Shape de X após VarianceThreshold: {X_var_selected.shape}\")\n",
        "# Para ver quais colunas foram mantidas:\n",
        "# print(X.columns[selector_var.get_support()])\n",
        "\n",
        "# 4.1.2 SelectKBest: selecionar os K melhores atributos\n",
        "# Usaremos f_classif (ANOVA F-value) pois 'survived' é categórico e temos atributos numéricos.\n",
        "# Se todos os atributos fossem categóricos (após discretização, por exemplo) e o alvo também, poderíamos usar chi2.\n",
        "num_features_to_select = 10\n",
        "selector_kbest = SelectKBest(score_func=f_classif, k=num_features_to_select)\n",
        "X_kbest_selected = selector_kbest.fit_transform(X, y)\n",
        "print(f\"\\nShape de X após SelectKBest: {X_kbest_selected.shape}\")\n",
        "\n",
        "# Ver os scores e as colunas selecionadas\n",
        "feature_scores = pd.DataFrame({'Feature': X.columns, 'Score': selector_kbest.scores_})\n",
        "print(\"\\nScores dos atributos (f_classif):\")\n",
        "print(feature_scores.sort_values(by='Score', ascending=False).head(num_features_to_select))\n",
        "\n",
        "# Colunas selecionadas pelo SelectKBest\n",
        "selected_features_kbest = X.columns[selector_kbest.get_support()]\n",
        "print(f\"\\nColunas selecionadas pelo SelectKBest: {selected_features_kbest.tolist()}\")"
      ],
      "id": "vQMFqipD748v"
    },
    {
      "cell_type": "markdown",
      "metadata": {
        "id": "DaDrAUxC748v"
      },
      "source": [
        "### 4.2 Análise de Componentes Principais (PCA)\n",
        "\n",
        "PCA é uma técnica de extração de atributos que cria novos atributos (componentes principais) não correlacionados.\n",
        "É importante aplicar PCA em dados escalados."
      ],
      "id": "DaDrAUxC748v"
    },
    {
      "cell_type": "code",
      "execution_count": null,
      "metadata": {
        "id": "iMKwf0ni748v",
        "colab": {
          "base_uri": "https://localhost:8080/",
          "height": 627
        },
        "outputId": "2ae38d0c-e44d-4164-8dee-6342da217c30"
      },
      "outputs": [
        {
          "output_type": "stream",
          "name": "stdout",
          "text": [
            "Shape de X após PCA: (775, 5)\n",
            "\n",
            "Variância explicada por cada componente principal:\n",
            "[0.26925214 0.20732243 0.12667931 0.12278933 0.09027571]\n",
            "Total de variância explicada pelos 5 componentes: 0.8163\n"
          ]
        },
        {
          "output_type": "display_data",
          "data": {
            "text/plain": [
              "<Figure size 800x500 with 1 Axes>"
            ],
            "image/png": "[encoded data removed]"
          },
          "metadata": {}
        },
        {
          "output_type": "stream",
          "name": "stdout",
          "text": [
            "\n",
            "Shape de X após PCA com 95% de variância explicada: (775, 9)\n",
            "Número de componentes para 95% de variância: 9\n"
          ]
        }
      ],
      "source": [
        "# Usaremos os dados X originais (após encoding, antes da seleção de atributos) e vamos escalá-los primeiro\n",
        "scaler_pca = StandardScaler()\n",
        "X_scaled_pca = scaler_pca.fit_transform(X)\n",
        "\n",
        "# Aplicar PCA para reduzir para, por exemplo, 5 componentes\n",
        "n_components_pca = 5\n",
        "pca = PCA(n_components=n_components_pca)\n",
        "X_pca = pca.fit_transform(X_scaled_pca)\n",
        "\n",
        "print(f\"Shape de X após PCA: {X_pca.shape}\")\n",
        "\n",
        "# Variância explicada por cada componente\n",
        "print(\"\\nVariância explicada por cada componente principal:\")\n",
        "print(pca.explained_variance_ratio_)\n",
        "print(f\"Total de variância explicada pelos {n_components_pca} componentes: {np.sum(pca.explained_variance_ratio_):.4f}\")\n",
        "\n",
        "# Plotar a variância explicada acumulada\n",
        "plt.figure(figsize=(8, 5))\n",
        "plt.plot(np.cumsum(pca.explained_variance_ratio_))\n",
        "plt.xlabel('Número de Componentes')\n",
        "plt.ylabel('Variância Explicada Acumulada')\n",
        "plt.title('Variância Explicada Acumulada pelo PCA')\n",
        "plt.grid(True)\n",
        "plt.show()\n",
        "\n",
        "# Para escolher o número de componentes para reter uma certa porcentagem da variância (ex: 95%)\n",
        "pca_95 = PCA(n_components=0.95) # Retém componentes que explicam 95% da variância\n",
        "X_pca_95 = pca_95.fit_transform(X_scaled_pca)\n",
        "print(f\"\\nShape de X após PCA com 95% de variância explicada: {X_pca_95.shape}\")\n",
        "print(f\"Número de componentes para 95% de variância: {pca_95.n_components_}\")"
      ],
      "id": "iMKwf0ni748v"
    },
    {
      "cell_type": "markdown",
      "metadata": {
        "id": "U8D9QiAq748v"
      },
      "source": [
        "## 5. Discussão\n",
        "\n",
        "- O pré-processamento é uma etapa importante e muitas vezes demorada em projetos de Mineração de Dados.\n",
        "- A escolha das técnicas depende do dataset e do algoritmo de mineração que será usado posteriormente.\n",
        "- É importante aplicar transformações aprendidas no conjunto de treino também no conjunto de teste (e em novos dados) para evitar data leakage e garantir consistência. Pipelines do Scikit-learn são muito úteis para isso."
      ],
      "id": "U8D9QiAq748v"
    },
    {
      "cell_type": "markdown",
      "metadata": {
        "id": "gJtnItdM748v"
      },
      "source": [],
      "id": "gJtnItdM748v"
    }
  ]
}