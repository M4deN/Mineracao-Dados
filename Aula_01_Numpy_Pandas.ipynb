{
  "metadata": {
    "language_info": {
      "name": "python"
    },
    "colab": {
      "provenance": [],
      "include_colab_link": true
    },
    "kernelspec": {
      "name": "python3",
      "display_name": "Python 3"
    }
  },
  "nbformat": 4,
  "nbformat_minor": 5,
  "cells": [
    {
      "cell_type": "markdown",
      "metadata": {
        "id": "view-in-github",
        "colab_type": "text"
      },
      "source": [
        "<a href=\"https://colab.research.google.com/github/M4deN/Mineracao-Dados/blob/main/Aula_01_Numpy_Pandas.ipynb\" target=\"_parent\"><img src=\"https://colab.research.google.com/assets/colab-badge.svg\" alt=\"Open In Colab\"/></a>"
      ]
    },
    {
      "cell_type": "markdown",
      "source": [
        "# Disciplina de Mineração de Dados\n",
        "## Programa de Pós-graduação em Informática (PPGI)\n"
      ],
      "metadata": {
        "id": "SxsGitMk6iBU"
      },
      "id": "SxsGitMk6iBU"
    },
    {
      "cell_type": "markdown",
      "metadata": {
        "id": "p2uM3mF55wjD"
      },
      "source": [
        "# Encontro 1: Introdução à Mineração de Dados e Python para Análise de Dados\n",
        "\n",
        "**Objetivos:**\n",
        "- Introduzir os conceitos fundamentais de Mineração de Dados e o processo KDD."
      ],
      "id": "p2uM3mF55wjD"
    },
    {
      "cell_type": "markdown",
      "metadata": {
        "id": "IZvbcN325wjG"
      },
      "source": [
        "## Parte 1: NumPy (Numerical Python)\n",
        "\n"
      ],
      "id": "IZvbcN325wjG"
    },
    {
      "cell_type": "code",
      "execution_count": null,
      "metadata": {
        "id": "hPPQWys25wjH"
      },
      "outputs": [],
      "source": [
        "# Importar a biblioteca NumPy\n",
        "import numpy as np"
      ],
      "id": "hPPQWys25wjH"
    },
    {
      "cell_type": "code",
      "source": [
        "lista = [1,\"casa\",3,4]\n",
        "array = np.array(lista)\n",
        "print(array)\n",
        "print(lista)"
      ],
      "metadata": {
        "colab": {
          "base_uri": "https://localhost:8080/"
        },
        "id": "4QRy2Kd6RbD0",
        "outputId": "a5754176-b16b-4c75-cc13-1ca022124924"
      },
      "id": "4QRy2Kd6RbD0",
      "execution_count": null,
      "outputs": [
        {
          "output_type": "stream",
          "name": "stdout",
          "text": [
            "['1' 'casa' '3' '4']\n",
            "[1, 'casa', 3, 4]\n"
          ]
        }
      ]
    },
    {
      "cell_type": "markdown",
      "metadata": {
        "id": "hOxmUcZ95wjI"
      },
      "source": [
        "### 1.1 Criação de Arrays NumPy\n",
        "\n",
        "Arrays NumPy (ndarrays) podem ser criados de diversas formas:"
      ],
      "id": "hOxmUcZ95wjI"
    },
    {
      "cell_type": "code",
      "execution_count": null,
      "metadata": {
        "id": "MAf7Yi1W5wjI",
        "colab": {
          "base_uri": "https://localhost:8080/"
        },
        "outputId": "6ce9ba3e-7d5f-444d-aebb-007d1fdecd1d"
      },
      "outputs": [
        {
          "output_type": "stream",
          "name": "stdout",
          "text": [
            "Array a partir de lista: [1 2 3 4 5]\n",
            "Array 2D a partir de lista de listas:\n",
            "[[1 2 3]\n",
            " [4 5 6]]\n",
            "Array com arange: [0 2 4 6 8]\n",
            "Array de zeros:\n",
            "[[0. 0. 0.]\n",
            " [0. 0. 0.]]\n",
            "Array de uns:\n",
            "[[1. 1.]\n",
            " [1. 1.]\n",
            " [1. 1.]]\n",
            "Array com linspace: [0.   0.25 0.5  0.75 1.  ]\n",
            "Array com random.rand:\n",
            "[[0.09511886 0.64783241]\n",
            " [0.76867351 0.82138318]]\n",
            "Array com random.randn:\n",
            "[[ 0.93107084 -1.60902528]\n",
            " [-0.88874116 -0.59752686]]\n",
            "Array com random.randint:\n",
            "[[34 20  4]\n",
            " [25 45 68]]\n"
          ]
        }
      ],
      "source": [
        "# A partir de uma lista Python\n",
        "lista1 = [1, 2, 3, 4, 5]\n",
        "array1 = np.array(lista1)\n",
        "print(f\"Array a partir de lista: {array1}\")\n",
        "\n",
        "lista2 = [[1, 2, 3], [4, 5, 6]]\n",
        "array2 = np.array(lista2)\n",
        "print(f\"Array 2D a partir de lista de listas:\\n{array2}\")\n",
        "\n",
        "# Usando np.arange() - similar ao range do Python\n",
        "array_arange = np.arange(0, 10, 2) # Início, Fim (exclusivo), Passo\n",
        "print(f\"Array com arange: {array_arange}\")\n",
        "\n",
        "# Usando np.zeros() e np.ones()\n",
        "array_zeros = np.zeros((2, 3)) # Shape do array (2 linhas, 3 colunas)\n",
        "print(f\"Array de zeros:\\n{array_zeros}\")\n",
        "\n",
        "array_ones = np.ones((3, 2))\n",
        "print(f\"Array de uns:\\n{array_ones}\")\n",
        "\n",
        "# Usando np.linspace() - números igualmente espaçados em um intervalo\n",
        "array_linspace = np.linspace(0, 1, 5) # Início, Fim, Número de pontos\n",
        "print(f\"Array com linspace: {array_linspace}\")\n",
        "\n",
        "# Usando np.random para criar arrays com números aleatórios\n",
        "array_rand = np.random.rand(2, 2) # Números aleatórios entre 0 e 1 com shape (2,2)\n",
        "print(f\"Array com random.rand:\\n{array_rand}\")\n",
        "\n",
        "array_randn = np.random.randn(2, 2) # Números aleatórios de uma distribuição normal padrão\n",
        "print(f\"Array com random.randn:\\n{array_randn}\")\n",
        "\n",
        "array_randint = np.random.randint(0, 100, (2, 3)) # Inteiros aleatórios (Início, Fim (exclusivo), Shape)\n",
        "print(f\"Array com random.randint:\\n{array_randint}\")"
      ],
      "id": "MAf7Yi1W5wjI"
    },
    {
      "cell_type": "markdown",
      "metadata": {
        "id": "pqyle_825wjJ"
      },
      "source": [
        "### 1.2 Atributos do ndarray\n",
        "\n",
        "Arrays NumPy possuem atributos importantes que descrevem suas características:"
      ],
      "id": "pqyle_825wjJ"
    },
    {
      "cell_type": "code",
      "execution_count": null,
      "metadata": {
        "id": "aMmQgCTN5wjJ",
        "colab": {
          "base_uri": "https://localhost:8080/"
        },
        "outputId": "3397aee2-5710-4393-bb7c-aed3df69def8"
      },
      "outputs": [
        {
          "output_type": "stream",
          "name": "stdout",
          "text": [
            "Array2: \n",
            "[[1 2 3]\n",
            " [4 5 6]]\n",
            "Shape de array2: (2, 3)\n",
            "dtype de array2: int64\n",
            "ndim de array2: 2\n",
            "size de array2: 6\n"
          ]
        }
      ],
      "source": [
        "print(f\"Array2: \\n{array2}\")\n",
        "print(f\"Shape de array2: {array2.shape}\") # Dimensões do array (linhas, colunas)\n",
        "print(f\"dtype de array2: {array2.dtype}\") # Tipo de dado dos elementos\n",
        "print(f\"ndim de array2: {array2.ndim}\") # Número de dimensões\n",
        "print(f\"size de array2: {array2.size}\") # Número total de elementos"
      ],
      "id": "aMmQgCTN5wjJ"
    },
    {
      "cell_type": "markdown",
      "metadata": {
        "id": "M7cT8eWd5wjJ"
      },
      "source": [
        "### 1.3 Indexação e Fatiamento (Slicing)\n",
        "\n",
        "Acessar e modificar partes de arrays NumPy é crucial."
      ],
      "id": "M7cT8eWd5wjJ"
    },
    {
      "cell_type": "code",
      "execution_count": null,
      "metadata": {
        "id": "aY5iX7jp5wjK",
        "colab": {
          "base_uri": "https://localhost:8080/"
        },
        "outputId": "7c9f8f90-7067-4dc8-e451-cde700c6be43"
      },
      "outputs": [
        {
          "output_type": "stream",
          "name": "stdout",
          "text": [
            "Array para indexação: [10 11 12 13 14 15 16 17 18 19]\n",
            "Elemento no índice 3: 13\n",
            "Elementos do índice 2 ao 5 (exclusive): [12 13 14]\n",
            "Elementos do início ao índice 4 (exclusive): [10 11 12 13]\n",
            "Elementos do índice 5 ao fim: [15 16 17 18 19]\n",
            "Elementos com passo 2: [10 12 14 16 18]\n",
            "Array 2D para indexação:\n",
            "[[10 11 12]\n",
            " [13 14 15]\n",
            " [16 17 18]]\n",
            "Elemento na linha 1, coluna 2: 15\n",
            "Primeiras duas linhas, todas as colunas:\n",
            "[[10 11 12]\n",
            " [13 14 15]]\n",
            "Todas as linhas, coluna 1:\n",
            "[11 14 17]\n",
            "Sub-array (linhas 0 e 1, colunas 1 e 2):\n",
            "[[11 12]\n",
            " [14 15]]\n",
            "Array para indexação booleana: [1 5 2 8 3 7]\n",
            "Condição (elementos > 3): [False  True False  True False  True]\n",
            "Elementos que satisfazem a condição: [5 8 7]\n"
          ]
        }
      ],
      "source": [
        "array_idx = np.arange(10, 20)\n",
        "print(f\"Array para indexação: {array_idx}\")\n",
        "\n",
        "# Acessando um elemento\n",
        "print(f\"Elemento no índice 3: {array_idx[3]}\")\n",
        "\n",
        "# Fatiamento (slicing) [start:stop:step]\n",
        "print(f\"Elementos do índice 2 ao 5 (exclusive): {array_idx[2:5]}\")\n",
        "print(f\"Elementos do início ao índice 4 (exclusive): {array_idx[:4]}\")\n",
        "print(f\"Elementos do índice 5 ao fim: {array_idx[5:]}\")\n",
        "print(f\"Elementos com passo 2: {array_idx[::2]}\")\n",
        "\n",
        "# Indexação em arrays 2D\n",
        "array2d_idx = np.array([[10, 11, 12], [13, 14, 15], [16, 17, 18]])\n",
        "print(f\"Array 2D para indexação:\\n{array2d_idx}\")\n",
        "\n",
        "# Acessando um elemento (linha, coluna)\n",
        "print(f\"Elemento na linha 1, coluna 2: {array2d_idx[1, 2]}\") # ou array2d_idx[1][2]\n",
        "\n",
        "# Fatiando linhas e colunas\n",
        "print(f\"Primeiras duas linhas, todas as colunas:\\n{array2d_idx[:2, :]}\")\n",
        "print(f\"Todas as linhas, coluna 1:\\n{array2d_idx[:, 1]}\")\n",
        "print(f\"Sub-array (linhas 0 e 1, colunas 1 e 2):\\n{array2d_idx[:2, 1:]}\")\n",
        "\n",
        "# Indexação booleana\n",
        "array_bool = np.array([1, 5, 2, 8, 3, 7])\n",
        "condicao = array_bool > 3\n",
        "print(f\"Array para indexação booleana: {array_bool}\")\n",
        "print(f\"Condição (elementos > 3): {condicao}\")\n",
        "print(f\"Elementos que satisfazem a condição: {array_bool[condicao]}\")"
      ],
      "id": "aY5iX7jp5wjK"
    },
    {
      "cell_type": "markdown",
      "metadata": {
        "id": "BOiOZX2t5wjK"
      },
      "source": [
        "### 1.4 Operações Vetorizadas e Funções Universais (ufuncs)\n",
        "\n",
        "NumPy permite operações elemento a elemento sem a necessidade de loops explícitos, o que é muito eficiente."
      ],
      "id": "BOiOZX2t5wjK"
    },
    {
      "cell_type": "code",
      "execution_count": null,
      "metadata": {
        "id": "S9h32m9-5wjK",
        "colab": {
          "base_uri": "https://localhost:8080/"
        },
        "outputId": "0131e5db-4aaa-462a-fdbe-0c6c9dab36d7"
      },
      "outputs": [
        {
          "output_type": "stream",
          "name": "stdout",
          "text": [
            "Array A: [1 2 3]\n",
            "Array B: [4 5 6]\n",
            "A + B: [5 7 9]\n",
            "A - B: [-3 -3 -3]\n",
            "A * B: [ 4 10 18]\n",
            "A / B: [0.25 0.4  0.5 ]\n",
            "A ** 2: [1 4 9]\n",
            "Raiz quadrada de A: [1.         1.41421356 1.73205081]\n",
            "Exponencial de A: [ 2.71828183  7.3890561  20.08553692]\n",
            "Seno de A: [0.84147098 0.90929743 0.14112001]\n",
            "Logaritmo de A: [0.         0.69314718 1.09861229]\n"
          ]
        }
      ],
      "source": [
        "arr_a = np.array([1, 2, 3])\n",
        "arr_b = np.array([4, 5, 6])\n",
        "\n",
        "print(f\"Array A: {arr_a}\")\n",
        "print(f\"Array B: {arr_b}\")\n",
        "\n",
        "# Operações aritméticas elemento a elemento\n",
        "print(f\"A + B: {arr_a + arr_b}\")\n",
        "print(f\"A - B: {arr_a - arr_b}\")\n",
        "print(f\"A * B: {arr_a * arr_b}\")\n",
        "print(f\"A / B: {arr_a / arr_b}\")\n",
        "print(f\"A ** 2: {arr_a ** 2}\")\n",
        "\n",
        "# Funções Universais (ufuncs)\n",
        "print(f\"Raiz quadrada de A: {np.sqrt(arr_a)}\")\n",
        "print(f\"Exponencial de A: {np.exp(arr_a)}\")\n",
        "print(f\"Seno de A: {np.sin(arr_a)}\")\n",
        "print(f\"Logaritmo de A: {np.log(arr_a)}\")"
      ],
      "id": "S9h32m9-5wjK"
    },
    {
      "cell_type": "markdown",
      "metadata": {
        "id": "KvadlIhA5wjL"
      },
      "source": [
        "### 1.5 Agregações\n",
        "\n",
        "Calcular somas, médias, mínimos, máximos, etc."
      ],
      "id": "KvadlIhA5wjL"
    },
    {
      "cell_type": "code",
      "execution_count": null,
      "metadata": {
        "id": "P6HGr7_j5wjL",
        "colab": {
          "base_uri": "https://localhost:8080/"
        },
        "outputId": "4bea13c5-dc68-46e8-d8d6-57e52f00d173"
      },
      "outputs": [
        {
          "output_type": "stream",
          "name": "stdout",
          "text": [
            "Array para agregação:\n",
            "[[1 2 3]\n",
            " [4 5 6]\n",
            " [7 8 9]]\n",
            "Soma de todos os elementos: 45\n",
            "Média de todos os elementos: 5.0\n",
            "Valor mínimo: 1\n",
            "Valor máximo: 9\n",
            "Desvio padrão: 2.581988897471611\n",
            "Soma ao longo das linhas (para cada coluna): [12 15 18]\n",
            "Soma ao longo das colunas (para cada linha): [ 6 15 24]\n"
          ]
        }
      ],
      "source": [
        "array_agg = np.array([[1, 2, 3], [4, 5, 6], [7, 8, 9]])\n",
        "print(f\"Array para agregação:\\n{array_agg}\")\n",
        "\n",
        "print(f\"Soma de todos os elementos: {array_agg.sum()}\") # ou np.sum(array_agg)\n",
        "print(f\"Média de todos os elementos: {array_agg.mean()}\")\n",
        "print(f\"Valor mínimo: {array_agg.min()}\")\n",
        "print(f\"Valor máximo: {array_agg.max()}\")\n",
        "print(f\"Desvio padrão: {array_agg.std()}\")\n",
        "\n",
        "# Agregações ao longo de eixos (axis)\n",
        "# axis=0 opera ao longo das linhas (calcula para cada coluna)\n",
        "print(f\"Soma ao longo das linhas (para cada coluna): {array_agg.sum(axis=0)}\")\n",
        "# axis=1 opera ao longo das colunas (calcula para cada linha)\n",
        "print(f\"Soma ao longo das colunas (para cada linha): {array_agg.sum(axis=1)}\")"
      ],
      "id": "P6HGr7_j5wjL"
    },
    {
      "cell_type": "markdown",
      "metadata": {
        "id": "BjTi3NYm5wjL"
      },
      "source": [
        "### 1.6 Broadcasting\n",
        "\n",
        "Broadcasting descreve como o NumPy trata arrays com shapes diferentes durante operações aritméticas. Sujeito a certas restrições, o array menor é \"transmitido\" (broadcasted) através do array maior para que eles tenham shapes compatíveis."
      ],
      "id": "BjTi3NYm5wjL"
    },
    {
      "cell_type": "code",
      "execution_count": null,
      "metadata": {
        "id": "FhuGLooq5wjL",
        "colab": {
          "base_uri": "https://localhost:8080/"
        },
        "outputId": "dd20acad-4dc4-426b-90de-5a18ee377274"
      },
      "outputs": [
        {
          "output_type": "stream",
          "name": "stdout",
          "text": [
            "Array original:\n",
            "[[1 2 3]\n",
            " [4 5 6]\n",
            " [7 8 9]]\n",
            "Array + escalar:\n",
            "[[11 12 13]\n",
            " [14 15 16]\n",
            " [17 18 19]]\n",
            "Array linha: [10 20 30]\n",
            "Array + Array linha (broadcasting):\n",
            "[[11 22 33]\n",
            " [14 25 36]\n",
            " [17 28 39]]\n",
            "Array coluna:\n",
            "[[10]\n",
            " [20]\n",
            " [30]]\n",
            "Array + Array coluna (broadcasting):\n",
            "[[11 12 13]\n",
            " [24 25 26]\n",
            " [37 38 39]]\n"
          ]
        }
      ],
      "source": [
        "array_broad = np.array([[1, 2, 3], [4, 5, 6], [7, 8, 9]])\n",
        "escalar = 10\n",
        "print(f\"Array original:\\n{array_broad}\")\n",
        "\n",
        "# Array com escalar\n",
        "print(f\"Array + escalar:\\n{array_broad + escalar}\")\n",
        "\n",
        "array_linha = np.array([10, 20, 30]) # Shape (3,)\n",
        "print(f\"Array linha: {array_linha}\")\n",
        "print(f\"Array + Array linha (broadcasting):\\n{array_broad + array_linha}\")\n",
        "\n",
        "array_coluna = np.array([[10], [20], [30]]) # Shape (3,1)\n",
        "print(f\"Array coluna:\\n{array_coluna}\")\n",
        "print(f\"Array + Array coluna (broadcasting):\\n{array_broad + array_coluna}\")"
      ],
      "id": "FhuGLooq5wjL"
    },
    {
      "cell_type": "markdown",
      "metadata": {
        "id": "jFY6y31k5wjM"
      },
      "source": [
        "### Exercícios Práticos com NumPy\n",
        "\n",
        "1. Crie um array NumPy 1D com números de 0 a 9.\n",
        "2. Crie um array NumPy 2D (3x3) com valores de True.\n",
        "3. Extraia todos os números ímpares do array criado no exercício 1.\n",
        "4. Substitua todos os números ímpares no array do exercício 1 por -1.\n",
        "5. Crie um array 2D de shape (5,3) com números inteiros aleatórios entre 1 e 100. Calcule a média, mínimo e máximo por coluna."
      ],
      "id": "jFY6y31k5wjM"
    },
    {
      "cell_type": "code",
      "execution_count": null,
      "metadata": {
        "id": "cDWCQb3Y5wjM"
      },
      "outputs": [],
      "source": [
        "# Exercício 1\n",
        "arr_ex1 = np.arange(10)\n",
        "print(f\"Ex1: {arr_ex1}\")\n",
        "\n",
        "# Exercício 2\n",
        "arr_ex2 = np.full((3,3), True)\n",
        "# Alternativa: arr_ex2 = np.ones((3,3), dtype=bool)\n",
        "print(f\"Ex2:\\n{arr_ex2}\")\n",
        "\n",
        "# Exercício 3\n",
        "arr_ex3 = arr_ex1[arr_ex1 % 2 != 0]\n",
        "print(f\"Ex3: {arr_ex3}\")\n",
        "\n",
        "# Exercício 4\n",
        "arr_ex4 = arr_ex1.copy() # Evitar modificar o original para outros exercícios\n",
        "arr_ex4[arr_ex4 % 2 != 0] = -1\n",
        "print(f\"Ex4: {arr_ex4}\")\n",
        "\n",
        "# Exercício 5\n",
        "arr_ex5 = np.random.randint(1, 101, (5,3))\n",
        "print(f\"Ex5 - Array:\\n{arr_ex5}\")\n",
        "print(f\"Ex5 - Média por coluna: {arr_ex5.mean(axis=0)}\")\n",
        "print(f\"Ex5 - Mínimo por coluna: {arr_ex5.min(axis=0)}\")\n",
        "print(f\"Ex5 - Máximo por coluna: {arr_ex5.max(axis=0)}\")"
      ],
      "id": "cDWCQb3Y5wjM"
    },
    {
      "cell_type": "markdown",
      "metadata": {
        "id": "ERh3Nbol5wjM"
      },
      "source": [
        "## Parte 2: Pandas (Python Data Analysis Library)\n",
        "\n",
        "Pandas é construída sobre NumPy e fornece estruturas de dados de alto nível e ferramentas de análise de dados fáceis de usar. As principais estruturas são Series (1D) e DataFrame (2D)."
      ],
      "id": "ERh3Nbol5wjM"
    },
    {
      "cell_type": "code",
      "execution_count": null,
      "metadata": {
        "id": "O16hiXNS5wjM"
      },
      "outputs": [],
      "source": [
        "# Importar a biblioteca Pandas\n",
        "import pandas as pd"
      ],
      "id": "O16hiXNS5wjM"
    },
    {
      "cell_type": "markdown",
      "metadata": {
        "id": "vXjxZ7JJ5wjN"
      },
      "source": [
        "### 2.1 Series\n",
        "\n",
        "Uma Series é um array unidimensional rotulado capaz de armazenar qualquer tipo de dado (inteiros, strings, floats, objetos Python, etc.). Os rótulos do eixo são chamados coletivamente de índice."
      ],
      "id": "vXjxZ7JJ5wjN"
    },
    {
      "cell_type": "code",
      "execution_count": null,
      "metadata": {
        "id": "3zVKZ8Tn5wjN",
        "colab": {
          "base_uri": "https://localhost:8080/"
        },
        "outputId": "71b65650-c72d-44b4-d29c-522497767057"
      },
      "outputs": [
        {
          "output_type": "stream",
          "name": "stdout",
          "text": [
            "Series a partir de lista:\n",
            "0    10\n",
            "1    20\n",
            "2    30\n",
            "3    40\n",
            "4    50\n",
            "dtype: int64\n",
            "Series com índice personalizado:\n",
            "a    1\n",
            "b    2\n",
            "c    3\n",
            "dtype: int64\n",
            "Elemento no índice 0 de s_lista: 10\n",
            "Elemento no rótulo 'b' de s_indice: 2\n",
            "s_lista * 2:\n",
            "0     20\n",
            "1     40\n",
            "2     60\n",
            "3     80\n",
            "4    100\n",
            "dtype: int64\n",
            "s_lista > 25:\n",
            "2    30\n",
            "3    40\n",
            "4    50\n",
            "dtype: int64\n"
          ]
        }
      ],
      "source": [
        "# Criando uma Series a partir de uma lista\n",
        "s_lista = pd.Series([10, 20, 30, 40, 50])\n",
        "print(f\"Series a partir de lista:\\n{s_lista}\")\n",
        "\n",
        "# Criando uma Series com índice personalizado\n",
        "s_indice = pd.Series([1, 2, 3], index=['a', 'b', 'c'])\n",
        "print(f\"Series com índice personalizado:\\n{s_indice}\")\n",
        "\n",
        "# Acessando elementos\n",
        "print(f\"Elemento no índice 0 de s_lista: {s_lista[0]}\")\n",
        "print(f\"Elemento no rótulo 'b' de s_indice: {s_indice['b']}\")\n",
        "\n",
        "# Operações em Series (similares ao NumPy)\n",
        "print(f\"s_lista * 2:\\n{s_lista * 2}\")\n",
        "print(f\"s_lista > 25:\\n{s_lista[s_lista > 25]}\")"
      ],
      "id": "3zVKZ8Tn5wjN"
    },
    {
      "cell_type": "markdown",
      "metadata": {
        "id": "ecSYhVG-5wjN"
      },
      "source": [
        "### 2.2 DataFrames\n",
        "\n",
        "Um DataFrame é uma estrutura de dados tabular bidimensional, rotulada, com colunas de tipos potencialmente diferentes. Você pode pensar nele como uma planilha, uma tabela SQL ou um dicionário de objetos Series."
      ],
      "id": "ecSYhVG-5wjN"
    },
    {
      "cell_type": "code",
      "execution_count": null,
      "metadata": {
        "id": "cPGZ2FF_5wjN",
        "colab": {
          "base_uri": "https://localhost:8080/"
        },
        "outputId": "8143212f-2b82-474d-db8e-c2b4f81395ae"
      },
      "outputs": [
        {
          "output_type": "stream",
          "name": "stdout",
          "text": [
            "DataFrame a partir de dicionário:\n",
            "     Nome  Idade Cidade\n",
            "0     Ana     23     SP\n",
            "1   Bruno     34     RJ\n",
            "2   Carla     29     BH\n",
            "3  Daniel     42    POA\n",
            "\n",
            "DataFrame a partir de lista de dicionários:\n",
            "    Nome  Idade Cidade\n",
            "0    Eva     28    SSA\n",
            "1  Fábio     31    REC\n"
          ]
        }
      ],
      "source": [
        "# Criando um DataFrame a partir de um dicionário de listas\n",
        "dados = {\n",
        "    'Nome': ['Ana', 'Bruno', 'Carla', 'Daniel'],\n",
        "    'Idade': [23, 34, 29, 42],\n",
        "    'Cidade': ['SP', 'RJ', 'BH', 'POA']\n",
        "}\n",
        "df_dict = pd.DataFrame(dados)\n",
        "print(f\"DataFrame a partir de dicionário:\\n{df_dict}\")\n",
        "\n",
        "# Criando um DataFrame a partir de uma lista de dicionários\n",
        "lista_de_dicts = [\n",
        "    {'Nome': 'Eva', 'Idade': 28, 'Cidade': 'SSA'},\n",
        "    {'Nome': 'Fábio', 'Idade': 31, 'Cidade': 'REC'}\n",
        "]\n",
        "df_lista_dicts = pd.DataFrame(lista_de_dicts)\n",
        "print(f\"\\nDataFrame a partir de lista de dicionários:\\n{df_lista_dicts}\")"
      ],
      "id": "cPGZ2FF_5wjN"
    },
    {
      "cell_type": "markdown",
      "metadata": {
        "id": "qatS9C_a5wjN"
      },
      "source": [
        "### 2.3 Leitura e Escrita de Arquivos\n",
        "\n",
        "Pandas pode ler e escrever dados de/para uma variedade de formatos de arquivo, como CSV, Excel, JSON, SQL, etc."
      ],
      "id": "qatS9C_a5wjN"
    },
    {
      "cell_type": "code",
      "execution_count": null,
      "metadata": {
        "id": "J5xywFE55wjO",
        "colab": {
          "base_uri": "https://localhost:8080/"
        },
        "outputId": "409e29f7-a2eb-47ad-b909-be229627900d"
      },
      "outputs": [
        {
          "output_type": "stream",
          "name": "stdout",
          "text": [
            "DataFrame lido do CSV:\n",
            "   col1  col2\n",
            "0     1     3\n",
            "1     2     4\n"
          ]
        }
      ],
      "source": [
        "# Criando um arquivo CSV de exemplo\n",
        "data_csv = {'col1': [1, 2], 'col2': [3, 4]}\n",
        "df_para_csv = pd.DataFrame(data_csv)\n",
        "df_para_csv.to_csv('exemplo.csv', index=False) # index=False para não salvar o índice do DataFrame no arquivo\n",
        "\n",
        "# Lendo um arquivo CSV\n",
        "df_lido_csv = pd.read_csv('exemplo.csv')\n",
        "print(f\"DataFrame lido do CSV:\\n{df_lido_csv}\")\n",
        "\n",
        "# (Opcional) Para ler Excel, você pode precisar instalar openpyxl: !pip install openpyxl\n",
        "# df_para_excel = pd.DataFrame({'colA': [10,20], 'colB': ['X','Y']})\n",
        "# df_para_excel.to_excel('exemplo.xlsx', sheet_name='Planilha1', index=False)\n",
        "# df_lido_excel = pd.read_excel('exemplo.xlsx', sheet_name='Planilha1')\n",
        "# print(f\"\\nDataFrame lido do Excel:\\n{df_lido_excel}\")"
      ],
      "id": "J5xywFE55wjO"
    },
    {
      "cell_type": "markdown",
      "metadata": {
        "id": "tU17dzTX5wjO"
      },
      "source": [
        "### 2.4 Visualização e Exploração de Dados\n",
        "\n",
        "Pandas oferece várias funções para rapidamente inspecionar e entender seus dados."
      ],
      "id": "tU17dzTX5wjO"
    },
    {
      "cell_type": "code",
      "execution_count": null,
      "metadata": {
        "id": "LxfYwetJ5wjO",
        "colab": {
          "base_uri": "https://localhost:8080/"
        },
        "outputId": "51baad38-d473-42d3-ce31-e4138575852c"
      },
      "outputs": [
        {
          "output_type": "stream",
          "name": "stdout",
          "text": [
            "Primeiras 2 linhas (head):\n",
            "    Nome  Idade Cidade\n",
            "0    Ana     23     SP\n",
            "1  Bruno     34     RJ\n",
            "\n",
            "Últimas 2 linhas (tail):\n",
            "     Nome  Idade Cidade\n",
            "2   Carla     29     BH\n",
            "3  Daniel     42    POA\n",
            "\n",
            "Informações sobre o DataFrame (info):\n",
            "<class 'pandas.core.frame.DataFrame'>\n",
            "RangeIndex: 4 entries, 0 to 3\n",
            "Data columns (total 3 columns):\n",
            " #   Column  Non-Null Count  Dtype \n",
            "---  ------  --------------  ----- \n",
            " 0   Nome    4 non-null      object\n",
            " 1   Idade   4 non-null      int64 \n",
            " 2   Cidade  4 non-null      object\n",
            "dtypes: int64(1), object(2)\n",
            "memory usage: 228.0+ bytes\n",
            "\n",
            "Estatísticas descritivas (describe):\n",
            "       Nome      Idade Cidade\n",
            "count     4   4.000000      4\n",
            "unique    4        NaN      4\n",
            "top     Ana        NaN     SP\n",
            "freq      1        NaN      1\n",
            "mean    NaN  32.000000    NaN\n",
            "std     NaN   8.041559    NaN\n",
            "min     NaN  23.000000    NaN\n",
            "25%     NaN  27.500000    NaN\n",
            "50%     NaN  31.500000    NaN\n",
            "75%     NaN  36.000000    NaN\n",
            "max     NaN  42.000000    NaN\n",
            "\n",
            "Shape do DataFrame: (4, 3)\n",
            "Tipos de dados das colunas (dtypes):\n",
            "Nome      object\n",
            "Idade      int64\n",
            "Cidade    object\n",
            "dtype: object\n",
            "Nomes das colunas: Index(['Nome', 'Idade', 'Cidade'], dtype='object')\n",
            "Índice do DataFrame: RangeIndex(start=0, stop=4, step=1)\n"
          ]
        }
      ],
      "source": [
        "# Usando o DataFrame df_dict criado anteriormente\n",
        "print(f\"Primeiras 2 linhas (head):\\n{df_dict.head(2)}\")\n",
        "print(f\"\\nÚltimas 2 linhas (tail):\\n{df_dict.tail(2)}\")\n",
        "print(f\"\\nInformações sobre o DataFrame (info):\")\n",
        "df_dict.info()\n",
        "print(f\"\\nEstatísticas descritivas (describe):\\n{df_dict.describe(include='all')}\") # include='all' para incluir colunas não numéricas\n",
        "\n",
        "print(f\"\\nShape do DataFrame: {df_dict.shape}\")\n",
        "print(f\"Tipos de dados das colunas (dtypes):\\n{df_dict.dtypes}\")\n",
        "print(f\"Nomes das colunas: {df_dict.columns}\")\n",
        "print(f\"Índice do DataFrame: {df_dict.index}\")"
      ],
      "id": "LxfYwetJ5wjO"
    },
    {
      "cell_type": "markdown",
      "metadata": {
        "id": "e9F8hdBu5wjO"
      },
      "source": [
        "### 2.5 Seleção e Indexação\n",
        "\n",
        "Selecionar subconjuntos de dados é uma tarefa fundamental."
      ],
      "id": "e9F8hdBu5wjO"
    },
    {
      "cell_type": "code",
      "execution_count": null,
      "metadata": {
        "id": "ySYBasmL5wjO"
      },
      "outputs": [],
      "source": [
        "# Selecionando uma coluna (retorna uma Series)\n",
        "nomes = df_dict['Nome']\n",
        "print(f\"Coluna 'Nome':\\n{nomes}\")\n",
        "print(type(nomes))\n",
        "\n",
        "# Selecionando múltiplas colunas (retorna um DataFrame)\n",
        "nome_idade = df_dict[['Nome', 'Idade']]\n",
        "print(f\"\\nColunas 'Nome' e 'Idade':\\n{nome_idade}\")\n",
        "\n",
        "# Seleção por rótulo de linha com .loc[]\n",
        "# .loc[rótulo_linha, rótulo_coluna]\n",
        "print(f\"\\nLinha com índice 1:\\n{df_dict.loc[1]}\")\n",
        "print(f\"\\nNome da pessoa na linha 1: {df_dict.loc[1, 'Nome']}\")\n",
        "print(f\"\\nLinhas 0 e 2, colunas 'Nome' e 'Cidade':\\n{df_dict.loc[[0, 2], ['Nome', 'Cidade']]}\")\n",
        "\n",
        "# Seleção por posição inteira com .iloc[]\n",
        "# .iloc[posição_linha, posição_coluna]\n",
        "print(f\"\\nLinha na posição 1 (segunda linha):\\n{df_dict.iloc[1]}\")\n",
        "print(f\"\\nElemento na linha 1, coluna 0: {df_dict.iloc[1, 0]}\")\n",
        "print(f\"\\nPrimeiras duas linhas, primeiras duas colunas:\\n{df_dict.iloc[:2, :2]}\")\n",
        "\n",
        "# Seleção condicional\n",
        "mais_de_30 = df_dict[df_dict['Idade'] > 30]\n",
        "print(f\"\\nPessoas com mais de 30 anos:\\n{mais_de_30}\")\n",
        "\n",
        "# Condições múltiplas\n",
        "# & para AND, | para OR, ~ para NOT. Use parênteses para cada condição.\n",
        "ana_ou_daniel = df_dict[(df_dict['Nome'] == 'Ana') | (df_dict['Nome'] == 'Daniel')]\n",
        "print(f\"\\nAna ou Daniel:\\n{ana_ou_daniel}\")"
      ],
      "id": "ySYBasmL5wjO"
    },
    {
      "cell_type": "markdown",
      "metadata": {
        "id": "5gNiaL3u5wjO"
      },
      "source": [
        "### 2.6 Manipulação de Dados Ausentes (Missing Data)\n",
        "\n",
        "Dados ausentes são comuns e precisam ser tratados."
      ],
      "id": "5gNiaL3u5wjO"
    },
    {
      "cell_type": "code",
      "execution_count": null,
      "metadata": {
        "id": "m9rdRC6G5wjO",
        "colab": {
          "base_uri": "https://localhost:8080/"
        },
        "outputId": "51136d07-5d90-47ad-e8a6-a8657822b6a4"
      },
      "outputs": [
        {
          "output_type": "stream",
          "name": "stdout",
          "text": [
            "DataFrame com dados ausentes:\n",
            "     A    B  C\n",
            "0  1.0  5.0  x\n",
            "1  2.0  NaN  y\n",
            "2  NaN  NaN  z\n",
            "3  4.0  8.0  w\n",
            "\n",
            "Verificando isnull():\n",
            "       A      B      C\n",
            "0  False  False  False\n",
            "1  False   True  False\n",
            "2   True   True  False\n",
            "3  False  False  False\n",
            "\n",
            "Contagem de ausentes por coluna:\n",
            "A    1\n",
            "B    2\n",
            "C    0\n",
            "dtype: int64\n",
            "\n",
            "Removendo linhas com qualquer NaN:\n",
            "     A    B  C\n",
            "0  1.0  5.0  x\n",
            "3  4.0  8.0  w\n",
            "\n",
            "Preenchendo NaN com 0:\n",
            "     A    B  C\n",
            "0  1.0  5.0  x\n",
            "1  2.0  0.0  y\n",
            "2  0.0  0.0  z\n",
            "3  4.0  8.0  w\n",
            "\n",
            "Preenchendo NaN com média/mediana da coluna:\n",
            "          A    B  C\n",
            "0  1.000000  5.0  x\n",
            "1  2.000000  6.5  y\n",
            "2  2.333333  6.5  z\n",
            "3  4.000000  8.0  w\n"
          ]
        }
      ],
      "source": [
        "# Criando um DataFrame com dados ausentes (NaN - Not a Number)\n",
        "dados_ausentes = {\n",
        "    'A': [1, 2, np.nan, 4],\n",
        "    'B': [5, np.nan, np.nan, 8],\n",
        "    'C': ['x', 'y', 'z', 'w']\n",
        "}\n",
        "df_ausentes = pd.DataFrame(dados_ausentes)\n",
        "print(f\"DataFrame com dados ausentes:\\n{df_ausentes}\")\n",
        "\n",
        "# Verificando dados ausentes\n",
        "print(f\"\\nVerificando isnull():\\n{df_ausentes.isnull()}\")\n",
        "print(f\"\\nContagem de ausentes por coluna:\\n{df_ausentes.isnull().sum()}\")\n",
        "\n",
        "# Removendo dados ausentes com .dropna()\n",
        "# axis=0 remove linhas com NaN, axis=1 remove colunas com NaN\n",
        "# how='any' remove se houver qualquer NaN, how='all' remove se todos forem NaN\n",
        "print(f\"\\nRemovendo linhas com qualquer NaN:\\n{df_ausentes.dropna(axis=0, how='any')}\")\n",
        "\n",
        "# Preenchendo dados ausentes com .fillna()\n",
        "print(f\"\\nPreenchendo NaN com 0:\\n{df_ausentes.fillna(value=0)}\")\n",
        "\n",
        "# Preenchendo com a média da coluna (apenas para colunas numéricas)\n",
        "df_ausentes_copia = df_ausentes.copy()\n",
        "df_ausentes_copia['A'] = df_ausentes_copia['A'].fillna(df_ausentes_copia['A'].mean())\n",
        "df_ausentes_copia['B'] = df_ausentes_copia['B'].fillna(df_ausentes_copia['B'].median()) # Usando mediana para B\n",
        "print(f\"\\nPreenchendo NaN com média/mediana da coluna:\\n{df_ausentes_copia}\")"
      ],
      "id": "m9rdRC6G5wjO"
    },
    {
      "cell_type": "markdown",
      "metadata": {
        "id": "VUUuz0fw5wjP"
      },
      "source": [
        "### 2.7 Operações Básicas e Agrupamento (groupby)\n",
        "\n",
        "Pandas permite diversas operações, incluindo adicionar/remover colunas e agrupar dados."
      ],
      "id": "VUUuz0fw5wjP"
    },
    {
      "cell_type": "code",
      "execution_count": null,
      "metadata": {
        "id": "T2nfLtl85wjP",
        "colab": {
          "base_uri": "https://localhost:8080/"
        },
        "outputId": "27dfc0ae-138e-4214-b688-087ff1a3ae79"
      },
      "outputs": [
        {
          "output_type": "stream",
          "name": "stdout",
          "text": [
            "DataFrame com nova coluna 'Salario':\n",
            "     Nome  Idade Cidade  Salario\n",
            "0     Ana     23     SP     5000\n",
            "1   Bruno     34     RJ     7000\n",
            "2   Carla     29     BH     4500\n",
            "3  Daniel     42    POA     8000\n",
            "\n",
            "Média de Idade: 32.0\n",
            "Soma dos Salários: 24500\n",
            "Valores únicos na coluna 'Cidade': ['SP' 'RJ' 'BH' 'POA']\n",
            "Contagem de valores na coluna 'Cidade':\n",
            "Cidade\n",
            "SP     1\n",
            "RJ     1\n",
            "BH     1\n",
            "POA    1\n",
            "Name: count, dtype: int64\n",
            "\n",
            "DataFrame para groupby:\n",
            "  Empresa   Pessoa  Vendas\n",
            "0    GOOG      Sam     200\n",
            "1    GOOG  Charlie     120\n",
            "2    MSFT      Amy     340\n",
            "3    MSFT  Vanessa     124\n",
            "4      FB     Carl     243\n",
            "5      FB    Sarah     350\n",
            "\n",
            "Média de vendas por empresa:\n",
            "Empresa\n",
            "FB      296.5\n",
            "GOOG    160.0\n",
            "MSFT    232.0\n",
            "Name: Vendas, dtype: float64\n",
            "\n",
            "Soma de vendas por empresa:\n",
            "Empresa\n",
            "FB      593\n",
            "GOOG    320\n",
            "MSFT    464\n",
            "Name: Vendas, dtype: int64\n",
            "\n",
            "Contagem de pessoas por empresa:\n",
            "Empresa\n",
            "FB      2\n",
            "GOOG    2\n",
            "MSFT    2\n",
            "Name: Pessoa, dtype: int64\n",
            "\n",
            "Agregação múltipla (soma, média, contagem) de vendas por empresa:\n",
            "         sum   mean  count\n",
            "Empresa                   \n",
            "FB       593  296.5      2\n",
            "GOOG     320  160.0      2\n",
            "MSFT     464  232.0      2\n"
          ]
        }
      ],
      "source": [
        "# Adicionando uma nova coluna\n",
        "df_dict['Salario'] = [5000, 7000, 4500, 8000]\n",
        "print(f\"DataFrame com nova coluna 'Salario':\\n{df_dict}\")\n",
        "\n",
        "# Removendo uma coluna\n",
        "# df_dict_sem_cidade = df_dict.drop('Cidade', axis=1) # axis=1 para coluna\n",
        "# print(f\"\\nDataFrame sem a coluna 'Cidade':\\n{df_dict_sem_cidade}\")\n",
        "\n",
        "# Estatísticas descritivas por coluna\n",
        "print(f\"\\nMédia de Idade: {df_dict['Idade'].mean()}\")\n",
        "print(f\"Soma dos Salários: {df_dict['Salario'].sum()}\")\n",
        "print(f\"Valores únicos na coluna 'Cidade': {df_dict['Cidade'].unique()}\")\n",
        "print(f\"Contagem de valores na coluna 'Cidade':\\n{df_dict['Cidade'].value_counts()}\")\n",
        "\n",
        "# Agrupamento com .groupby()\n",
        "# O groupby envolve uma combinação de dividir o objeto, aplicar uma função e combinar os resultados.\n",
        "dados_grupo = {\n",
        "    'Empresa': ['GOOG', 'GOOG', 'MSFT', 'MSFT', 'FB', 'FB'],\n",
        "    'Pessoa': ['Sam', 'Charlie', 'Amy', 'Vanessa', 'Carl', 'Sarah'],\n",
        "    'Vendas': [200, 120, 340, 124, 243, 350]\n",
        "}\n",
        "df_grupo = pd.DataFrame(dados_grupo)\n",
        "print(f\"\\nDataFrame para groupby:\\n{df_grupo}\")\n",
        "\n",
        "grupo_por_empresa = df_grupo.groupby('Empresa')\n",
        "print(f\"\\nMédia de vendas por empresa:\\n{grupo_por_empresa['Vendas'].mean()}\")\n",
        "print(f\"\\nSoma de vendas por empresa:\\n{grupo_por_empresa['Vendas'].sum()}\")\n",
        "print(f\"\\nContagem de pessoas por empresa:\\n{grupo_por_empresa['Pessoa'].count()}\")\n",
        "\n",
        "# Agregação múltipla\n",
        "print(f\"\\nAgregação múltipla (soma, média, contagem) de vendas por empresa:\\n{grupo_por_empresa['Vendas'].agg(['sum', 'mean', 'count'])}\")"
      ],
      "id": "T2nfLtl85wjP"
    },
    {
      "cell_type": "code",
      "source": [
        "grupo_por_empresa.describe()"
      ],
      "metadata": {
        "colab": {
          "base_uri": "https://localhost:8080/",
          "height": 206
        },
        "id": "0xYJUu3KaSLi",
        "outputId": "180a2999-53fb-456b-b2ba-e51cc6d796e2"
      },
      "id": "0xYJUu3KaSLi",
      "execution_count": null,
      "outputs": [
        {
          "output_type": "execute_result",
          "data": {
            "text/plain": [
              "        Vendas                                                        \n",
              "         count   mean         std    min     25%    50%     75%    max\n",
              "Empresa                                                               \n",
              "FB         2.0  296.5   75.660426  243.0  269.75  296.5  323.25  350.0\n",
              "GOOG       2.0  160.0   56.568542  120.0  140.00  160.0  180.00  200.0\n",
              "MSFT       2.0  232.0  152.735065  124.0  178.00  232.0  286.00  340.0"
            ],
            "text/html": [
              "\n",
              "  <div id=\"df-5baac62a-1d50-4ac8-9809-a7c075168c53\" class=\"colab-df-container\">\n",
              "    <div>\n",
              "<style scoped>\n",
              "    .dataframe tbody tr th:only-of-type {\n",
              "        vertical-align: middle;\n",
              "    }\n",
              "\n",
              "    .dataframe tbody tr th {\n",
              "        vertical-align: top;\n",
              "    }\n",
              "\n",
              "    .dataframe thead tr th {\n",
              "        text-align: left;\n",
              "    }\n",
              "\n",
              "    .dataframe thead tr:last-of-type th {\n",
              "        text-align: right;\n",
              "    }\n",
              "</style>\n",
              "<table border=\"1\" class=\"dataframe\">\n",
              "  <thead>\n",
              "    <tr>\n",
              "      <th></th>\n",
              "      <th colspan=\"8\" halign=\"left\">Vendas</th>\n",
              "    </tr>\n",
              "    <tr>\n",
              "      <th></th>\n",
              "      <th>count</th>\n",
              "      <th>mean</th>\n",
              "      <th>std</th>\n",
              "      <th>min</th>\n",
              "      <th>25%</th>\n",
              "      <th>50%</th>\n",
              "      <th>75%</th>\n",
              "      <th>max</th>\n",
              "    </tr>\n",
              "    <tr>\n",
              "      <th>Empresa</th>\n",
              "      <th></th>\n",
              "      <th></th>\n",
              "      <th></th>\n",
              "      <th></th>\n",
              "      <th></th>\n",
              "      <th></th>\n",
              "      <th></th>\n",
              "      <th></th>\n",
              "    </tr>\n",
              "  </thead>\n",
              "  <tbody>\n",
              "    <tr>\n",
              "      <th>FB</th>\n",
              "      <td>2.0</td>\n",
              "      <td>296.5</td>\n",
              "      <td>75.660426</td>\n",
              "      <td>243.0</td>\n",
              "      <td>269.75</td>\n",
              "      <td>296.5</td>\n",
              "      <td>323.25</td>\n",
              "      <td>350.0</td>\n",
              "    </tr>\n",
              "    <tr>\n",
              "      <th>GOOG</th>\n",
              "      <td>2.0</td>\n",
              "      <td>160.0</td>\n",
              "      <td>56.568542</td>\n",
              "      <td>120.0</td>\n",
              "      <td>140.00</td>\n",
              "      <td>160.0</td>\n",
              "      <td>180.00</td>\n",
              "      <td>200.0</td>\n",
              "    </tr>\n",
              "    <tr>\n",
              "      <th>MSFT</th>\n",
              "      <td>2.0</td>\n",
              "      <td>232.0</td>\n",
              "      <td>152.735065</td>\n",
              "      <td>124.0</td>\n",
              "      <td>178.00</td>\n",
              "      <td>232.0</td>\n",
              "      <td>286.00</td>\n",
              "      <td>340.0</td>\n",
              "    </tr>\n",
              "  </tbody>\n",
              "</table>\n",
              "</div>\n",
              "    <div class=\"colab-df-buttons\">\n",
              "\n",
              "  <div class=\"colab-df-container\">\n",
              "    <button class=\"colab-df-convert\" onclick=\"convertToInteractive('df-5baac62a-1d50-4ac8-9809-a7c075168c53')\"\n",
              "            title=\"Convert this dataframe to an interactive table.\"\n",
              "            style=\"display:none;\">\n",
              "\n",
              "  <svg xmlns=\"http://www.w3.org/2000/svg\" height=\"24px\" viewBox=\"0 -960 960 960\">\n",
              "    <path d=\"M120-120v-720h720v720H120Zm60-500h600v-160H180v160Zm220 220h160v-160H400v160Zm0 220h160v-160H400v160ZM180-400h160v-160H180v160Zm440 0h160v-160H620v160ZM180-180h160v-160H180v160Zm440 0h160v-160H620v160Z\"/>\n",
              "  </svg>\n",
              "    </button>\n",
              "\n",
              "  <style>\n",
              "    .colab-df-container {\n",
              "      display:flex;\n",
              "      gap: 12px;\n",
              "    }\n",
              "\n",
              "    .colab-df-convert {\n",
              "      background-color: #E8F0FE;\n",
              "      border: none;\n",
              "      border-radius: 50%;\n",
              "      cursor: pointer;\n",
              "      display: none;\n",
              "      fill: #1967D2;\n",
              "      height: 32px;\n",
              "      padding: 0 0 0 0;\n",
              "      width: 32px;\n",
              "    }\n",
              "\n",
              "    .colab-df-convert:hover {\n",
              "      background-color: #E2EBFA;\n",
              "      box-shadow: 0px 1px 2px rgba(60, 64, 67, 0.3), 0px 1px 3px 1px rgba(60, 64, 67, 0.15);\n",
              "      fill: #174EA6;\n",
              "    }\n",
              "\n",
              "    .colab-df-buttons div {\n",
              "      margin-bottom: 4px;\n",
              "    }\n",
              "\n",
              "    [theme=dark] .colab-df-convert {\n",
              "      background-color: #3B4455;\n",
              "      fill: #D2E3FC;\n",
              "    }\n",
              "\n",
              "    [theme=dark] .colab-df-convert:hover {\n",
              "      background-color: #434B5C;\n",
              "      box-shadow: 0px 1px 3px 1px rgba(0, 0, 0, 0.15);\n",
              "      filter: drop-shadow(0px 1px 2px rgba(0, 0, 0, 0.3));\n",
              "      fill: #FFFFFF;\n",
              "    }\n",
              "  </style>\n",
              "\n",
              "    <script>\n",
              "      const buttonEl =\n",
              "        document.querySelector('#df-5baac62a-1d50-4ac8-9809-a7c075168c53 button.colab-df-convert');\n",
              "      buttonEl.style.display =\n",
              "        google.colab.kernel.accessAllowed ? 'block' : 'none';\n",
              "\n",
              "      async function convertToInteractive(key) {\n",
              "        const element = document.querySelector('#df-5baac62a-1d50-4ac8-9809-a7c075168c53');\n",
              "        const dataTable =\n",
              "          await google.colab.kernel.invokeFunction('convertToInteractive',\n",
              "                                                    [key], {});\n",
              "        if (!dataTable) return;\n",
              "\n",
              "        const docLinkHtml = 'Like what you see? Visit the ' +\n",
              "          '<a target=\"_blank\" href=https://colab.research.google.com/notebooks/data_table.ipynb>data table notebook</a>'\n",
              "          + ' to learn more about interactive tables.';\n",
              "        element.innerHTML = '';\n",
              "        dataTable['output_type'] = 'display_data';\n",
              "        await google.colab.output.renderOutput(dataTable, element);\n",
              "        const docLink = document.createElement('div');\n",
              "        docLink.innerHTML = docLinkHtml;\n",
              "        element.appendChild(docLink);\n",
              "      }\n",
              "    </script>\n",
              "  </div>\n",
              "\n",
              "\n",
              "    <div id=\"df-0f4c4a0a-b216-4e70-a13e-c0869f556c19\">\n",
              "      <button class=\"colab-df-quickchart\" onclick=\"quickchart('df-0f4c4a0a-b216-4e70-a13e-c0869f556c19')\"\n",
              "                title=\"Suggest charts\"\n",
              "                style=\"display:none;\">\n",
              "\n",
              "<svg xmlns=\"http://www.w3.org/2000/svg\" height=\"24px\"viewBox=\"0 0 24 24\"\n",
              "     width=\"24px\">\n",
              "    <g>\n",
              "        <path d=\"M19 3H5c-1.1 0-2 .9-2 2v14c0 1.1.9 2 2 2h14c1.1 0 2-.9 2-2V5c0-1.1-.9-2-2-2zM9 17H7v-7h2v7zm4 0h-2V7h2v10zm4 0h-2v-4h2v4z\"/>\n",
              "    </g>\n",
              "</svg>\n",
              "      </button>\n",
              "\n",
              "<style>\n",
              "  .colab-df-quickchart {\n",
              "      --bg-color: #E8F0FE;\n",
              "      --fill-color: #1967D2;\n",
              "      --hover-bg-color: #E2EBFA;\n",
              "      --hover-fill-color: #174EA6;\n",
              "      --disabled-fill-color: #AAA;\n",
              "      --disabled-bg-color: #DDD;\n",
              "  }\n",
              "\n",
              "  [theme=dark] .colab-df-quickchart {\n",
              "      --bg-color: #3B4455;\n",
              "      --fill-color: #D2E3FC;\n",
              "      --hover-bg-color: #434B5C;\n",
              "      --hover-fill-color: #FFFFFF;\n",
              "      --disabled-bg-color: #3B4455;\n",
              "      --disabled-fill-color: #666;\n",
              "  }\n",
              "\n",
              "  .colab-df-quickchart {\n",
              "    background-color: var(--bg-color);\n",
              "    border: none;\n",
              "    border-radius: 50%;\n",
              "    cursor: pointer;\n",
              "    display: none;\n",
              "    fill: var(--fill-color);\n",
              "    height: 32px;\n",
              "    padding: 0;\n",
              "    width: 32px;\n",
              "  }\n",
              "\n",
              "  .colab-df-quickchart:hover {\n",
              "    background-color: var(--hover-bg-color);\n",
              "    box-shadow: 0 1px 2px rgba(60, 64, 67, 0.3), 0 1px 3px 1px rgba(60, 64, 67, 0.15);\n",
              "    fill: var(--button-hover-fill-color);\n",
              "  }\n",
              "\n",
              "  .colab-df-quickchart-complete:disabled,\n",
              "  .colab-df-quickchart-complete:disabled:hover {\n",
              "    background-color: var(--disabled-bg-color);\n",
              "    fill: var(--disabled-fill-color);\n",
              "    box-shadow: none;\n",
              "  }\n",
              "\n",
              "  .colab-df-spinner {\n",
              "    border: 2px solid var(--fill-color);\n",
              "    border-color: transparent;\n",
              "    border-bottom-color: var(--fill-color);\n",
              "    animation:\n",
              "      spin 1s steps(1) infinite;\n",
              "  }\n",
              "\n",
              "  @keyframes spin {\n",
              "    0% {\n",
              "      border-color: transparent;\n",
              "      border-bottom-color: var(--fill-color);\n",
              "      border-left-color: var(--fill-color);\n",
              "    }\n",
              "    20% {\n",
              "      border-color: transparent;\n",
              "      border-left-color: var(--fill-color);\n",
              "      border-top-color: var(--fill-color);\n",
              "    }\n",
              "    30% {\n",
              "      border-color: transparent;\n",
              "      border-left-color: var(--fill-color);\n",
              "      border-top-color: var(--fill-color);\n",
              "      border-right-color: var(--fill-color);\n",
              "    }\n",
              "    40% {\n",
              "      border-color: transparent;\n",
              "      border-right-color: var(--fill-color);\n",
              "      border-top-color: var(--fill-color);\n",
              "    }\n",
              "    60% {\n",
              "      border-color: transparent;\n",
              "      border-right-color: var(--fill-color);\n",
              "    }\n",
              "    80% {\n",
              "      border-color: transparent;\n",
              "      border-right-color: var(--fill-color);\n",
              "      border-bottom-color: var(--fill-color);\n",
              "    }\n",
              "    90% {\n",
              "      border-color: transparent;\n",
              "      border-bottom-color: var(--fill-color);\n",
              "    }\n",
              "  }\n",
              "</style>\n",
              "\n",
              "      <script>\n",
              "        async function quickchart(key) {\n",
              "          const quickchartButtonEl =\n",
              "            document.querySelector('#' + key + ' button');\n",
              "          quickchartButtonEl.disabled = true;  // To prevent multiple clicks.\n",
              "          quickchartButtonEl.classList.add('colab-df-spinner');\n",
              "          try {\n",
              "            const charts = await google.colab.kernel.invokeFunction(\n",
              "                'suggestCharts', [key], {});\n",
              "          } catch (error) {\n",
              "            console.error('Error during call to suggestCharts:', error);\n",
              "          }\n",
              "          quickchartButtonEl.classList.remove('colab-df-spinner');\n",
              "          quickchartButtonEl.classList.add('colab-df-quickchart-complete');\n",
              "        }\n",
              "        (() => {\n",
              "          let quickchartButtonEl =\n",
              "            document.querySelector('#df-0f4c4a0a-b216-4e70-a13e-c0869f556c19 button');\n",
              "          quickchartButtonEl.style.display =\n",
              "            google.colab.kernel.accessAllowed ? 'block' : 'none';\n",
              "        })();\n",
              "      </script>\n",
              "    </div>\n",
              "\n",
              "    </div>\n",
              "  </div>\n"
            ],
            "application/vnd.google.colaboratory.intrinsic+json": {
              "type": "dataframe",
              "summary": "{\n  \"name\": \"grupo_por_empresa\",\n  \"rows\": 3,\n  \"fields\": [\n    {\n      \"column\": [\n        \"Empresa\",\n        \"\"\n      ],\n      \"properties\": {\n        \"dtype\": \"string\",\n        \"num_unique_values\": 3,\n        \"samples\": [\n          \"FB\",\n          \"GOOG\",\n          \"MSFT\"\n        ],\n        \"semantic_type\": \"\",\n        \"description\": \"\"\n      }\n    },\n    {\n      \"column\": [\n        \"Vendas\",\n        \"count\"\n      ],\n      \"properties\": {\n        \"dtype\": \"number\",\n        \"std\": 0.0,\n        \"min\": 2.0,\n        \"max\": 2.0,\n        \"num_unique_values\": 1,\n        \"samples\": [\n          2.0\n        ],\n        \"semantic_type\": \"\",\n        \"description\": \"\"\n      }\n    },\n    {\n      \"column\": [\n        \"Vendas\",\n        \"mean\"\n      ],\n      \"properties\": {\n        \"dtype\": \"number\",\n        \"std\": 68.28433202426454,\n        \"min\": 160.0,\n        \"max\": 296.5,\n        \"num_unique_values\": 3,\n        \"samples\": [\n          296.5\n        ],\n        \"semantic_type\": \"\",\n        \"description\": \"\"\n      }\n    },\n    {\n      \"column\": [\n        \"Vendas\",\n        \"std\"\n      ],\n      \"properties\": {\n        \"dtype\": \"number\",\n        \"std\": 50.91332504037295,\n        \"min\": 56.568542494923804,\n        \"max\": 152.73506473629428,\n        \"num_unique_values\": 3,\n        \"samples\": [\n          75.66042558696059\n        ],\n        \"semantic_type\": \"\",\n        \"description\": \"\"\n      }\n    },\n    {\n      \"column\": [\n        \"Vendas\",\n        \"min\"\n      ],\n      \"properties\": {\n        \"dtype\": \"number\",\n        \"std\": 69.88800564713041,\n        \"min\": 120.0,\n        \"max\": 243.0,\n        \"num_unique_values\": 3,\n        \"samples\": [\n          243.0\n        ],\n        \"semantic_type\": \"\",\n        \"description\": \"\"\n      }\n    },\n    {\n      \"column\": [\n        \"Vendas\",\n        \"25%\"\n      ],\n      \"properties\": {\n        \"dtype\": \"number\",\n        \"std\": 66.70472871793523,\n        \"min\": 140.0,\n        \"max\": 269.75,\n        \"num_unique_values\": 3,\n        \"samples\": [\n          269.75\n        ],\n        \"semantic_type\": \"\",\n        \"description\": \"\"\n      }\n    },\n    {\n      \"column\": [\n        \"Vendas\",\n        \"50%\"\n      ],\n      \"properties\": {\n        \"dtype\": \"number\",\n        \"std\": 68.28433202426454,\n        \"min\": 160.0,\n        \"max\": 296.5,\n        \"num_unique_values\": 3,\n        \"samples\": [\n          296.5\n        ],\n        \"semantic_type\": \"\",\n        \"description\": \"\"\n      }\n    },\n    {\n      \"column\": [\n        \"Vendas\",\n        \"75%\"\n      ],\n      \"properties\": {\n        \"dtype\": \"number\",\n        \"std\": 74.32375685696555,\n        \"min\": 180.0,\n        \"max\": 323.25,\n        \"num_unique_values\": 3,\n        \"samples\": [\n          323.25\n        ],\n        \"semantic_type\": \"\",\n        \"description\": \"\"\n      }\n    },\n    {\n      \"column\": [\n        \"Vendas\",\n        \"max\"\n      ],\n      \"properties\": {\n        \"dtype\": \"number\",\n        \"std\": 83.86497083606082,\n        \"min\": 200.0,\n        \"max\": 350.0,\n        \"num_unique_values\": 3,\n        \"samples\": [\n          350.0\n        ],\n        \"semantic_type\": \"\",\n        \"description\": \"\"\n      }\n    }\n  ]\n}"
            }
          },
          "metadata": {},
          "execution_count": 21
        }
      ]
    },
    {
      "cell_type": "markdown",
      "metadata": {
        "id": "JlvpzLJ55wjP"
      },
      "source": [
        "### Exercícios Práticos com Pandas\n",
        "\n",
        "1. Crie um DataFrame com informações de pelo menos 5 alunos (Nome, Idade, Curso, Semestre).\n",
        "2. Carregue um dataset CSV simples (ex: `iris.csv` ou `titanic.csv` - você pode encontrar links para eles online ou usar os do `seaborn` se tiver instalado: `import seaborn as sns; df_iris = sns.load_dataset('iris')`). Se usar um dataset local, faça o upload para o Colab.\n",
        "3. Explore o DataFrame carregado: mostre as primeiras 5 linhas, as últimas 3 linhas, as dimensões (shape), os tipos de dados de cada coluna e as estatísticas descritivas.\n",
        "4. Selecione apenas as colunas que são do tipo numérico (float ou int) do DataFrame carregado.\n",
        "5. Filtre o DataFrame para mostrar apenas as linhas onde uma coluna numérica específica é maior que um valor à sua escolha (ex: no Iris, `sepal_length > 5.0`).\n",
        "6. Verifique se há dados ausentes no DataFrame. Se houver, conte quantos por coluna e proponha uma estratégia para tratá-los (preencher com média/mediana/moda ou remover).\n",
        "7. Agrupe os dados por uma coluna categórica (ex: a coluna `species` no Iris) e calcule a média de todas as colunas numéricas para cada grupo."
      ],
      "id": "JlvpzLJ55wjP"
    },
    {
      "cell_type": "code",
      "execution_count": null,
      "metadata": {
        "id": "y9iqzfmm5wjP"
      },
      "outputs": [],
      "source": [
        "# Exercício 1\n",
        "dados_alunos = {\n",
        "    'Nome': ['Miguel', 'Sofia', 'Arthur', 'Helena', 'Bernardo'],\n",
        "    'Idade': [20, 22, 21, 23, 20],\n",
        "    'Curso': ['Computação', 'Engenharia', 'Computação', 'Direito', 'Engenharia'],\n",
        "    'Semestre': [3, 5, 4, 6, 3]\n",
        "}\n",
        "df_alunos = pd.DataFrame(dados_alunos)\n",
        "print(f\"Ex1 - DataFrame Alunos:\\n{df_alunos}\")\n",
        "\n",
        "# Exercício 2: Carregar dataset Iris (exemplo com seaborn para facilidade no Colab)\n",
        "# Se for usar um CSV local:\n",
        "# from google.colab import files\n",
        "# uploaded = files.upload() # Isso abrirá uma caixa de diálogo para upload\n",
        "# import io\n",
        "# df_iris = pd.read_csv(io.BytesIO(uploaded['nome_do_seu_arquivo_iris.csv']))\n",
        "\n",
        "import seaborn as sns\n",
        "df_iris = sns.load_dataset('iris')\n",
        "print(f\"\\nEx2 - Dataset Iris carregado (primeiras linhas):\\n{df_iris.head()}\")\n",
        "\n",
        "# Exercício 3\n",
        "print(f\"\\nEx3 - Primeiras 5 linhas:\\n{df_iris.head(5)}\")\n",
        "print(f\"\\nEx3 - Últimas 3 linhas:\\n{df_iris.tail(3)}\")\n",
        "print(f\"\\nEx3 - Shape: {df_iris.shape}\")\n",
        "print(f\"\\nEx3 - Tipos de dados:\\n{df_iris.dtypes}\")\n",
        "print(f\"\\nEx3 - Estatísticas descritivas:\\n{df_iris.describe(include='all')}\")\n",
        "\n",
        "# Exercício 4\n",
        "df_iris_numerico = df_iris.select_dtypes(include=[np.number])\n",
        "print(f\"\\nEx4 - Colunas numéricas:\\n{df_iris_numerico.head()}\")\n",
        "\n",
        "# Exercício 5\n",
        "df_filtrado = df_iris[df_iris['sepal_length'] > 7.0]\n",
        "print(f\"\\nEx5 - Iris com sepal_length > 7.0:\\n{df_filtrado}\")\n",
        "\n",
        "# Exercício 6\n",
        "print(f\"\\nEx6 - Dados ausentes por coluna:\\n{df_iris.isnull().sum()}\")\n",
        "# O dataset Iris do seaborn geralmente não tem dados ausentes.\n",
        "# Se tivesse, uma estratégia poderia ser:\n",
        "# Para colunas numéricas: df_iris['nome_coluna_numerica'].fillna(df_iris['nome_coluna_numerica'].median(), inplace=True)\n",
        "# Para colunas categóricas: df_iris['nome_coluna_categorica'].fillna(df_iris['nome_coluna_categorica'].mode()[0], inplace=True)\n",
        "print(\"O dataset Iris carregado geralmente não possui dados ausentes.\")\n",
        "\n",
        "# Exercício 7\n",
        "media_por_especie = df_iris.groupby('species').mean() # .mean() em um GroupBy calcula a média das colunas numéricas\n",
        "print(f\"\\nEx7 - Média das colunas numéricas por espécie:\\n{media_por_especie}\")"
      ],
      "id": "y9iqzfmm5wjP"
    },
    {
      "cell_type": "markdown",
      "metadata": {
        "id": "s85-Pq7x5wjP"
      },
      "source": [],
      "id": "s85-Pq7x5wjP"
    }
  ]
}